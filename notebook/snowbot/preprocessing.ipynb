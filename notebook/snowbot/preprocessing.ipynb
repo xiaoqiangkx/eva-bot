{
 "cells": [
  {
   "cell_type": "code",
   "execution_count": 40,
   "id": "637fbd17-0427-4e39-a28c-591d70fccc67",
   "metadata": {},
   "outputs": [],
   "source": [
    "from unstructured.partition.auto import partition\n",
    "from unstructured.partition.image import partition_image"
   ]
  },
  {
   "cell_type": "code",
   "execution_count": 55,
   "id": "495969df-faa0-49ad-959a-5a2a44192732",
   "metadata": {},
   "outputs": [],
   "source": [
    "filename = \"/Users/wangqiang/Downloads/常雪历年工作备份/4-工作相关/6-蓝道广告/工作/33-北京蓝城桃花源/2-文案创作/210902 北京桃花源道旗文字-改.docx\""
   ]
  },
  {
   "cell_type": "code",
   "execution_count": 56,
   "id": "3c434ad7-08f7-438e-ae9a-441dcf148ae8",
   "metadata": {},
   "outputs": [],
   "source": [
    "elements = partition(filename, languages=[\"chi_sim\"])"
   ]
  },
  {
   "cell_type": "markdown",
   "id": "298b9825-78b9-4a55-893f-6fba65b102ca",
   "metadata": {},
   "source": [
    "### 地产数据统计和分类"
   ]
  },
  {
   "cell_type": "markdown",
   "id": "12321873-27bb-4945-b0c1-9ce497704b02",
   "metadata": {},
   "source": [
    "#### 1. 数据统计和清洗\n",
    "- 后缀分布情况"
   ]
  },
  {
   "cell_type": "code",
   "execution_count": 64,
   "id": "74576e1e-853a-4945-a481-800c8a2d8077",
   "metadata": {},
   "outputs": [],
   "source": [
    "import sys\n",
    "import os\n",
    "\n",
    "sys.path.insert(0, os.path.abspath(\"../../\"))"
   ]
  },
  {
   "cell_type": "code",
   "execution_count": 90,
   "id": "106ae170-1d39-4ea9-ba09-fb7522688db3",
   "metadata": {},
   "outputs": [
    {
     "data": {
      "text/plain": [
       "<module 'utils.file_utils' from '/Users/wangqiang/workspace/bot/eva/utils/file_utils.py'>"
      ]
     },
     "execution_count": 90,
     "metadata": {},
     "output_type": "execute_result"
    }
   ],
   "source": [
    "from utils import file_utils\n",
    "\n",
    "import importlib\n",
    "importlib.reload(file_utils)"
   ]
  },
  {
   "cell_type": "code",
   "execution_count": 82,
   "id": "8ad0e3c9-2969-4daa-8198-83c2be68aa2f",
   "metadata": {},
   "outputs": [
    {
     "data": {
      "text/plain": [
       "[('jpg', 306),\n",
       " ('docx', 282),\n",
       " ('png', 141),\n",
       " ('pptx', 19),\n",
       " ('pdf', 15),\n",
       " ('doc', 11),\n",
       " ('qlv', 11),\n",
       " ('mp4', 10),\n",
       " ('DS_Store', 5),\n",
       " ('m4a', 4),\n",
       " ('jpeg', 3),\n",
       " ('xlsx', 2),\n",
       " ('_20190813春风燕语叠墅户型折页看稿', 1)]"
      ]
     },
     "execution_count": 82,
     "metadata": {},
     "output_type": "execute_result"
    }
   ],
   "source": [
    "data_dir: str = \"/Users/wangqiang/Downloads/15-临安蓝城·春风燕语\"\n",
    "filetype_dict = file_utils.count_filetype_in_dir(data_dir)\n",
    "from collections import Counter\n",
    "filetype_counter = Counter(filetype_dict)\n",
    "filetype_counter.most_common(15)"
   ]
  },
  {
   "cell_type": "code",
   "execution_count": 83,
   "id": "b7db0e22-d2f5-4298-81c6-8e304543a157",
   "metadata": {
    "scrolled": true
   },
   "outputs": [],
   "source": [
    "file_data = file_utils.aggregate_files_in_dir(data_dir)"
   ]
  },
  {
   "cell_type": "markdown",
   "id": "533094e2-ca71-4fbe-b29b-75b4371b7da5",
   "metadata": {},
   "source": [
    "### 2. 地产文案工作流程分析\n",
    "- 提报方案（项目介绍、营销策略）\n",
    "- 创作\n",
    "\n",
    "### 创作内容\n",
    "- 海报/展板\n",
    "- 软文\n",
    "- 串词\n",
    "- 访谈\n",
    "- 总结"
   ]
  },
  {
   "cell_type": "markdown",
   "id": "b86e9a81-703a-492c-bd8e-daa474bacc03",
   "metadata": {},
   "source": [
    "### 构建生成API和数据存储层\n",
    "> 通过一个完整的项目，来解构整个数据API和数据格式，从上而下的架构\n",
    "1. 定义生成API：生成提报、海报、软文、串词、访谈、总结等\n",
    "2. 定义Document：类型 + 文字内容"
   ]
  },
  {
   "cell_type": "code",
   "execution_count": 93,
   "id": "68bf027d-1f7d-4acf-b0f4-62bf4c025bf5",
   "metadata": {},
   "outputs": [],
   "source": [
    "document_dir = \"/Users/wangqiang/Downloads/15-临安蓝城·春风燕语/2-文案创作\"\n",
    "file_data = file_utils.aggregate_files_in_dir(document_dir)\n",
    "filenames = file_data[\"docx\"]"
   ]
  },
  {
   "cell_type": "code",
   "execution_count": 95,
   "id": "e042e092-e0f2-466b-81f8-099e317af927",
   "metadata": {
    "scrolled": true
   },
   "outputs": [
    {
     "data": {
      "text/plain": [
       "['/Users/wangqiang/Downloads/15-临安蓝城·春风燕语/2-文案创作/2019/20191121-临安蓝城·春风燕语之燕语之星票选推文-改.docx',\n",
       " '/Users/wangqiang/Downloads/15-临安蓝城·春风燕语/2-文案创作/2019/20190829-蓝城·春风燕语日签预告文案.docx',\n",
       " '/Users/wangqiang/Downloads/15-临安蓝城·春风燕语/2-文案创作/2019/20190830-蓝城·春风燕语活动转发语.docx',\n",
       " '/Users/wangqiang/Downloads/15-临安蓝城·春风燕语/2-文案创作/2019/20191206-蓝城·春风燕语现场价值展板文案_改2.docx',\n",
       " '/Users/wangqiang/Downloads/15-临安蓝城·春风燕语/2-文案创作/2019/20190918-蓝城·春风燕语车位海报文案_调整.docx',\n",
       " '/Users/wangqiang/Downloads/15-临安蓝城·春风燕语/2-文案创作/2019/20191025-蓝城·春风燕语特价房源展架.docx',\n",
       " '/Users/wangqiang/Downloads/15-临安蓝城·春风燕语/2-文案创作/2019/20190906-蓝城·春风燕语日签文案.docx',\n",
       " '/Users/wangqiang/Downloads/15-临安蓝城·春风燕语/2-文案创作/2019/20191202-蓝城·春风燕语现场桁架文案.docx',\n",
       " '/Users/wangqiang/Downloads/15-临安蓝城·春风燕语/2-文案创作/2019/20191231-蓝城·春风燕语活动邀约海报文案.docx',\n",
       " '/Users/wangqiang/Downloads/15-临安蓝城·春风燕语/2-文案创作/2019/20191218-蓝城·春风燕语【春风人物志】系列7.docx',\n",
       " '/Users/wangqiang/Downloads/15-临安蓝城·春风燕语/2-文案创作/2019/20190916-蓝城·春风燕语星空下的露台系列3文案.docx',\n",
       " '/Users/wangqiang/Downloads/15-临安蓝城·春风燕语/2-文案创作/2019/20191224-蓝城·春风燕语业主采访提纲.docx',\n",
       " '/Users/wangqiang/Downloads/15-临安蓝城·春风燕语/2-文案创作/2019/20190906-蓝城·春风燕语中秋认领海报文案（调整）.docx',\n",
       " '/Users/wangqiang/Downloads/15-临安蓝城·春风燕语/2-文案创作/2019/20190830-蓝城·春风燕语日签主题包装.docx',\n",
       " '/Users/wangqiang/Downloads/15-临安蓝城·春风燕语/2-文案创作/2019/20191203-蓝城·春风燕语价值提炼.docx',\n",
       " '/Users/wangqiang/Downloads/15-临安蓝城·春风燕语/2-文案创作/2019/20190830-蓝城·春风燕语社群调查问卷.docx',\n",
       " '/Users/wangqiang/Downloads/15-临安蓝城·春风燕语/2-文案创作/2019/20190911-蓝城·春风燕语中秋后宣软文.docx',\n",
       " '/Users/wangqiang/Downloads/15-临安蓝城·春风燕语/2-文案创作/2019/20190911-蓝城·春风燕语叠墅热销海报文案.docx',\n",
       " '/Users/wangqiang/Downloads/15-临安蓝城·春风燕语/2-文案创作/2019/20190829-蓝城·春风燕语星空下的露台系列文案.docx',\n",
       " '/Users/wangqiang/Downloads/15-临安蓝城·春风燕语/2-文案创作/2019/20191212-蓝城·春风燕语价值海报.docx',\n",
       " '/Users/wangqiang/Downloads/15-临安蓝城·春风燕语/2-文案创作/2019/20191106-蓝城·春风燕语立冬海报文案.docx',\n",
       " '/Users/wangqiang/Downloads/15-临安蓝城·春风燕语/2-文案创作/2019/20191204-蓝城·春风燕语活动海报文案.docx',\n",
       " '/Users/wangqiang/Downloads/15-临安蓝城·春风燕语/2-文案创作/2019/20191203-蓝城·春风燕语工程进度家书文案.docx',\n",
       " '/Users/wangqiang/Downloads/15-临安蓝城·春风燕语/2-文案创作/2019/20191129-蓝城·春风燕语日签文案.docx',\n",
       " '/Users/wangqiang/Downloads/15-临安蓝城·春风燕语/2-文案创作/2019/20191216-蓝城·春风燕语价值海报.docx',\n",
       " '/Users/wangqiang/Downloads/15-临安蓝城·春风燕语/2-文案创作/2019/20191029-蓝城·春风燕语叠墅主推房源海报-改.docx',\n",
       " '/Users/wangqiang/Downloads/15-临安蓝城·春风燕语/2-文案创作/2019/20191224-蓝城·春风燕语合院软装软文.docx',\n",
       " '/Users/wangqiang/Downloads/15-临安蓝城·春风燕语/2-文案创作/2019/20191010-蓝城·春风燕语日签文案.docx',\n",
       " '/Users/wangqiang/Downloads/15-临安蓝城·春风燕语/2-文案创作/2019/20191204-临安蓝城·春风燕语【春风人物志】系列6_调整.docx',\n",
       " '/Users/wangqiang/Downloads/15-临安蓝城·春风燕语/2-文案创作/2019/20191018-蓝城·春风燕语家人访谈系列3.docx',\n",
       " '/Users/wangqiang/Downloads/15-临安蓝城·春风燕语/2-文案创作/2019/20191022-蓝城·春风燕语活动邀约海报文案.docx',\n",
       " '/Users/wangqiang/Downloads/15-临安蓝城·春风燕语/2-文案创作/2019/20191203-蓝城·春风燕语大雪海报文案.docx',\n",
       " '/Users/wangqiang/Downloads/15-临安蓝城·春风燕语/2-文案创作/2019/20190916-蓝城·春风燕语日签文案.docx',\n",
       " '/Users/wangqiang/Downloads/15-临安蓝城·春风燕语/2-文案创作/2019/20190830-春风燕语宣讲PPT文案（改）.docx',\n",
       " '/Users/wangqiang/Downloads/15-临安蓝城·春风燕语/2-文案创作/2019/20190903-蓝城·春风燕语开学季活动海报文案.docx',\n",
       " '/Users/wangqiang/Downloads/15-临安蓝城·春风燕语/2-文案创作/2019/20191012-蓝城·春风燕语藏心合院海报文案.docx',\n",
       " '/Users/wangqiang/Downloads/15-临安蓝城·春风燕语/2-文案创作/2019/20191120-蓝城·春风燕语羽毛球联谊KT板.docx',\n",
       " '/Users/wangqiang/Downloads/15-临安蓝城·春风燕语/2-文案创作/2019/20190902-蓝城·春风燕语指标完成海报文案.docx',\n",
       " '/Users/wangqiang/Downloads/15-临安蓝城·春风燕语/2-文案创作/2019/20191217-蓝城·春风燕语业主采访提纲.docx',\n",
       " '/Users/wangqiang/Downloads/15-临安蓝城·春风燕语/2-文案创作/2019/20190905-蓝城·春风燕语媒体软文.docx',\n",
       " '/Users/wangqiang/Downloads/15-临安蓝城·春风燕语/2-文案创作/2019/20191230-蓝城·春风燕语年会主题.docx',\n",
       " '/Users/wangqiang/Downloads/15-临安蓝城·春风燕语/2-文案创作/2019/20190919-蓝城·春风燕语户外文案.docx',\n",
       " '/Users/wangqiang/Downloads/15-临安蓝城·春风燕语/2-文案创作/2019/20191224-蓝城·春风燕语冲刺海报文案.docx',\n",
       " '/Users/wangqiang/Downloads/15-临安蓝城·春风燕语/2-文案创作/2019/20191029-蓝城·春风燕语叠墅主推房源海报.docx',\n",
       " '/Users/wangqiang/Downloads/15-临安蓝城·春风燕语/2-文案创作/2019/20191120-临安蓝城·春风燕语之燕语之星票选推文-调整.docx',\n",
       " '/Users/wangqiang/Downloads/15-临安蓝城·春风燕语/2-文案创作/2019/20191118-蓝城·春风燕语小雪海报文案.docx',\n",
       " '/Users/wangqiang/Downloads/15-临安蓝城·春风燕语/2-文案创作/2019/20190429-蓝城·春风燕语三期加推海报文案（调整版）.docx',\n",
       " '/Users/wangqiang/Downloads/15-临安蓝城·春风燕语/2-文案创作/2019/20191128-临安蓝城·春风燕语1周年庆典后宣.docx',\n",
       " '/Users/wangqiang/Downloads/15-临安蓝城·春风燕语/2-文案创作/2019/20191008-蓝城·春风燕语叠墅系列海报文案（下）.docx',\n",
       " '/Users/wangqiang/Downloads/15-临安蓝城·春风燕语/2-文案创作/2019/20191127-临安蓝城·春风燕语周年庆典活动主持人串词.docx',\n",
       " '/Users/wangqiang/Downloads/15-临安蓝城·春风燕语/2-文案创作/2019/20190830-蓝城·春风燕语感恩教师话语墙.docx',\n",
       " '/Users/wangqiang/Downloads/15-临安蓝城·春风燕语/2-文案创作/2019/20190929-蓝城·春风燕语国庆活动后宣文案.docx',\n",
       " '/Users/wangqiang/Downloads/15-临安蓝城·春风燕语/2-文案创作/2019/20191127-蓝城·春风燕语荣誉证书文案.docx',\n",
       " '/Users/wangqiang/Downloads/15-临安蓝城·春风燕语/2-文案创作/2019/20190909-蓝城·春风燕语降准海报文案.docx',\n",
       " '/Users/wangqiang/Downloads/15-临安蓝城·春风燕语/2-文案创作/2019/20190906-蓝城·春风燕语媒体软文（调整）.docx',\n",
       " '/Users/wangqiang/Downloads/15-临安蓝城·春风燕语/2-文案创作/2019/20191111-蓝城·春风燕语叠墅主推房源海报.docx',\n",
       " '/Users/wangqiang/Downloads/15-临安蓝城·春风燕语/2-文案创作/2019/20191114-临安蓝城·春风燕语业主访谈5-调整.docx',\n",
       " '/Users/wangqiang/Downloads/15-临安蓝城·春风燕语/2-文案创作/2019/20191025-蓝城·春风燕语主推房源海报.docx',\n",
       " '/Users/wangqiang/Downloads/15-临安蓝城·春风燕语/2-文案创作/2019/20190918-蓝城·春风燕语秋分节气海报文案.docx',\n",
       " '/Users/wangqiang/Downloads/15-临安蓝城·春风燕语/2-文案创作/2019/20191018-蓝城·春风燕语业主采访提纲.docx',\n",
       " '/Users/wangqiang/Downloads/15-临安蓝城·春风燕语/2-文案创作/2019/20191030-蓝城·春风燕语合院主推房源海报.docx',\n",
       " '/Users/wangqiang/Downloads/15-临安蓝城·春风燕语/2-文案创作/2019/20190925-蓝城·春风燕语重阳节海报文案.docx',\n",
       " '/Users/wangqiang/Downloads/15-临安蓝城·春风燕语/2-文案创作/2019/20190910-蓝城·春风燕语叠墅热销海报文案.docx',\n",
       " '/Users/wangqiang/Downloads/15-临安蓝城·春风燕语/2-文案创作/2019/20191101-蓝城·春风燕语主推房源海报文案.docx',\n",
       " '/Users/wangqiang/Downloads/15-临安蓝城·春风燕语/2-文案创作/2019/20190918-蓝城·春风燕语日签文案.docx',\n",
       " '/Users/wangqiang/Downloads/15-临安蓝城·春风燕语/2-文案创作/2019/20190912-蓝城·春风燕语团建口号.docx',\n",
       " '/Users/wangqiang/Downloads/15-临安蓝城·春风燕语/2-文案创作/2019/20191213-蓝城·春风燕语价值海报.docx',\n",
       " '/Users/wangqiang/Downloads/15-临安蓝城·春风燕语/2-文案创作/2019/20191107-蓝城·春风燕语价值长拉页文案.docx',\n",
       " '/Users/wangqiang/Downloads/15-临安蓝城·春风燕语/2-文案创作/2019/20190902-蓝城·春风燕语春风人物志上线海报文案.docx',\n",
       " '/Users/wangqiang/Downloads/15-临安蓝城·春风燕语/2-文案创作/2019/20191204-蓝城·春风燕语车位海报文案.docx',\n",
       " '/Users/wangqiang/Downloads/15-临安蓝城·春风燕语/2-文案创作/2019/20191202-蓝城·春风燕语砸金蛋展板文案.docx',\n",
       " '/Users/wangqiang/Downloads/15-临安蓝城·春风燕语/2-文案创作/2019/20191118-临安蓝城·春风燕语定投文字.docx',\n",
       " '/Users/wangqiang/Downloads/15-临安蓝城·春风燕语/2-文案创作/2019/20191115-临安蓝城·春风燕语亲历者说问题提纲.docx',\n",
       " '/Users/wangqiang/Downloads/15-临安蓝城·春风燕语/2-文案创作/2019/20190906-蓝城·春风燕语车位海报文案.docx',\n",
       " '/Users/wangqiang/Downloads/15-临安蓝城·春风燕语/2-文案创作/2019/20191120-临安蓝城·春风燕语叠墅软装软文.docx',\n",
       " '/Users/wangqiang/Downloads/15-临安蓝城·春风燕语/2-文案创作/2019/20191016-蓝城·春风燕语叠墅热销海报.docx',\n",
       " '/Users/wangqiang/Downloads/15-临安蓝城·春风燕语/2-文案创作/2019/20190925-蓝城·春风燕语国庆海报文案.docx',\n",
       " '/Users/wangqiang/Downloads/15-临安蓝城·春风燕语/2-文案创作/2019/20190903-蓝城·春风燕语白露节气海报文案.docx',\n",
       " '/Users/wangqiang/Downloads/15-临安蓝城·春风燕语/2-文案创作/2019/20190909-蓝城·春风燕语中秋活动桁架文案_.docx',\n",
       " '/Users/wangqiang/Downloads/15-临安蓝城·春风燕语/2-文案创作/2019/20190903-蓝城·春风燕语指标完成海报文案.docx',\n",
       " '/Users/wangqiang/Downloads/15-临安蓝城·春风燕语/2-文案创作/2019/20190905-蓝城·春风燕语车位海报文案.docx',\n",
       " '/Users/wangqiang/Downloads/15-临安蓝城·春风燕语/2-文案创作/2019/20190924-蓝城·春风燕语家人访谈系列2.docx',\n",
       " '/Users/wangqiang/Downloads/15-临安蓝城·春风燕语/2-文案创作/2019/20190926-蓝城·春风燕语国庆邀约海报文案.docx',\n",
       " '/Users/wangqiang/Downloads/15-临安蓝城·春风燕语/2-文案创作/2019/20191014-蓝城·春风燕语活动邀约海报文案.docx',\n",
       " '/Users/wangqiang/Downloads/15-临安蓝城·春风燕语/2-文案创作/2019/20191031-蓝城·春风燕语1周年预告前宣.docx',\n",
       " '/Users/wangqiang/Downloads/15-临安蓝城·春风燕语/2-文案创作/2019/20191023-蓝城·春风燕语霜降节气海报文案.docx',\n",
       " '/Users/wangqiang/Downloads/15-临安蓝城·春风燕语/2-文案创作/2019/20191029-蓝城·春风燕语活动邀约海报文案.docx',\n",
       " '/Users/wangqiang/Downloads/15-临安蓝城·春风燕语/2-文案创作/2019/20190429-蓝城·春风燕语叠墅售罄海报文案.docx',\n",
       " '/Users/wangqiang/Downloads/15-临安蓝城·春风燕语/2-文案创作/2019/20191106-蓝城·春风燕语1周年长拉页文案-改.docx',\n",
       " '/Users/wangqiang/Downloads/15-临安蓝城·春风燕语/2-文案创作/2019/20190926-蓝城·春风燕语国庆活动桁架.docx',\n",
       " '/Users/wangqiang/Downloads/15-临安蓝城·春风燕语/2-文案创作/2019/20191210-蓝城·春风燕语激励海报文案.docx',\n",
       " '/Users/wangqiang/Downloads/15-临安蓝城·春风燕语/2-文案创作/2019/20190925-蓝城·春风燕语家人访谈系列2.docx',\n",
       " '/Users/wangqiang/Downloads/15-临安蓝城·春风燕语/2-文案创作/2019/20190830-春风燕语宣讲PPT文案调整.docx',\n",
       " '/Users/wangqiang/Downloads/15-临安蓝城·春风燕语/2-文案创作/2019/20191107-蓝城·春风燕语价值长拉页文案-调整.docx',\n",
       " '/Users/wangqiang/Downloads/15-临安蓝城·春风燕语/2-文案创作/2019/20190910-蓝城·春风燕语星空下的露台系列2文案.docx',\n",
       " '/Users/wangqiang/Downloads/15-临安蓝城·春风燕语/2-文案创作/2019/20191016-蓝城·春风燕语老带新海报文案.docx',\n",
       " '/Users/wangqiang/Downloads/15-临安蓝城·春风燕语/2-文案创作/2019/20190905-蓝城·春风燕语口水楼市炒作帖.docx',\n",
       " '/Users/wangqiang/Downloads/15-临安蓝城·春风燕语/2-文案创作/2019/20191106-蓝城·春风燕语1周年长拉页文案.docx',\n",
       " '/Users/wangqiang/Downloads/15-临安蓝城·春风燕语/2-文案创作/2019/20191231-蓝城·春风燕语年终盘点海报文案.docx',\n",
       " '/Users/wangqiang/Downloads/15-临安蓝城·春风燕语/2-文案创作/2019/20191118-临安蓝城·春风燕语定投文字-调整.docx',\n",
       " '/Users/wangqiang/Downloads/15-临安蓝城·春风燕语/2-文案创作/2019/20191231-蓝城·春风燕语年会主题.docx',\n",
       " '/Users/wangqiang/Downloads/15-临安蓝城·春风燕语/2-文案创作/2019/20190909-蓝城·春风燕语中秋活动桁架文案.docx',\n",
       " '/Users/wangqiang/Downloads/15-临安蓝城·春风燕语/2-文案创作/2019/20190902-蓝城·春风燕语指标完成海报文案（调整版）.docx',\n",
       " '/Users/wangqiang/Downloads/15-临安蓝城·春风燕语/2-文案创作/2019/20191024-蓝城·春风燕语日签文案.docx',\n",
       " '/Users/wangqiang/Downloads/15-临安蓝城·春风燕语/2-文案创作/2019/20191128-临安蓝城·春风燕语【春风人物志】系列6.docx',\n",
       " '/Users/wangqiang/Downloads/15-临安蓝城·春风燕语/2-文案创作/2019/20191204-蓝城·春风燕语价值提炼（定）.docx',\n",
       " '/Users/wangqiang/Downloads/15-临安蓝城·春风燕语/2-文案创作/2019/20191016-蓝城·春风燕语日签文案.docx',\n",
       " '/Users/wangqiang/Downloads/15-临安蓝城·春风燕语/2-文案创作/2019/20190906-蓝城·春风燕语中秋认领海报文案.docx',\n",
       " '/Users/wangqiang/Downloads/15-临安蓝城·春风燕语/2-文案创作/2019/20191016-蓝城·春风燕语老带新海报文案（调整）.docx',\n",
       " '/Users/wangqiang/Downloads/15-临安蓝城·春风燕语/2-文案创作/2019/20190429-蓝城·春风燕语三期加推海报文案.docx',\n",
       " '/Users/wangqiang/Downloads/15-临安蓝城·春风燕语/2-文案创作/2019/20190829-蓝城·春风燕语日签文案.docx',\n",
       " '/Users/wangqiang/Downloads/15-临安蓝城·春风燕语/2-文案创作/2019/20191112-蓝城·春风燕语合院加推海报文案.docx',\n",
       " '/Users/wangqiang/Downloads/15-临安蓝城·春风燕语/2-文案创作/2019/20191105-蓝城·春风燕语区位配套利好软文.docx',\n",
       " '/Users/wangqiang/Downloads/15-临安蓝城·春风燕语/2-文案创作/2019/20190926-蓝城·春风燕语国庆长拉页海报.docx',\n",
       " '/Users/wangqiang/Downloads/15-临安蓝城·春风燕语/2-文案创作/2019/20191210-蓝城·春风燕语活动海报文案.docx',\n",
       " '/Users/wangqiang/Downloads/15-临安蓝城·春风燕语/2-文案创作/2019/20191231-蓝城·春风燕语价值海报.docx',\n",
       " '/Users/wangqiang/Downloads/15-临安蓝城·春风燕语/2-文案创作/2019/20190925-蓝城·春风燕语寒露节气海报文案.docx',\n",
       " '/Users/wangqiang/Downloads/15-临安蓝城·春风燕语/2-文案创作/2019/20191218-蓝城·春风燕语新年祝福手卡文案.docx',\n",
       " '/Users/wangqiang/Downloads/15-临安蓝城·春风燕语/2-文案创作/2019/20191225-蓝城·春风燕语价值海报.docx',\n",
       " '/Users/wangqiang/Downloads/15-临安蓝城·春风燕语/2-文案创作/2019/20191119-临安蓝城·春风燕语之燕语之星票选推文.docx',\n",
       " '/Users/wangqiang/Downloads/15-临安蓝城·春风燕语/2-文案创作/2019/20191111-蓝城·春风燕语湖山自有声系列贴片.docx',\n",
       " '/Users/wangqiang/Downloads/15-临安蓝城·春风燕语/2-文案创作/2019/20191107-蓝城·春风燕语特价房源展架.docx',\n",
       " '/Users/wangqiang/Downloads/15-临安蓝城·春风燕语/2-文案创作/2019/20191211-蓝城·春风燕语年度广告语构思.docx',\n",
       " '/Users/wangqiang/Downloads/15-临安蓝城·春风燕语/2-文案创作/2019/20191204-蓝城·春风燕语价值海报.docx',\n",
       " '/Users/wangqiang/Downloads/15-临安蓝城·春风燕语/2-文案创作/2019/20190925-蓝城·春风燕语日签文案.docx',\n",
       " '/Users/wangqiang/Downloads/15-临安蓝城·春风燕语/2-文案创作/2019/20191226-蓝城·春风燕语车位海报文案.docx',\n",
       " '/Users/wangqiang/Downloads/15-临安蓝城·春风燕语/2-文案创作/2019/20191111-蓝城·春风燕语活动海报文案.docx',\n",
       " '/Users/wangqiang/Downloads/15-临安蓝城·春风燕语/2-文案创作/2019/20191205-蓝城·春风燕语现场价值展板文案-调整.docx',\n",
       " '/Users/wangqiang/Downloads/15-临安蓝城·春风燕语/2-文案创作/2019/20191101-蓝城·春风燕语工程进度软文.docx',\n",
       " '/Users/wangqiang/Downloads/15-临安蓝城·春风燕语/2-文案创作/2019/20191014-蓝城·春风燕语业主采访提纲.docx',\n",
       " '/Users/wangqiang/Downloads/15-临安蓝城·春风燕语/2-文案创作/2019/20191016-蓝城·春风燕语叠墅加推海报文案.docx',\n",
       " '/Users/wangqiang/Downloads/15-临安蓝城·春风燕语/2-文案创作/2019/20190909-蓝城·春风燕语中秋节日海报文案.docx',\n",
       " '/Users/wangqiang/Downloads/15-临安蓝城·春风燕语/2-文案创作/2019/20191101-蓝城·春风燕语家人访谈系列4-改.docx',\n",
       " '/Users/wangqiang/Downloads/15-临安蓝城·春风燕语/2-文案创作/2019/20190902-蓝城·春风燕语开学季活动海报文案.docx',\n",
       " '/Users/wangqiang/Downloads/15-临安蓝城·春风燕语/2-文案创作/2019/20191220-蓝城·春风燕语冬至海报文案.docx',\n",
       " '/Users/wangqiang/Downloads/15-临安蓝城·春风燕语/2-文案创作/2019/20190909-蓝城·春风燕语中秋前宣软文.docx',\n",
       " '/Users/wangqiang/Downloads/15-临安蓝城·春风燕语/2-文案创作/2019/20191115-临安蓝城·春风燕语形象代言人投票推文.docx',\n",
       " '/Users/wangqiang/Downloads/15-临安蓝城·春风燕语/2-文案创作/2019/20191223-蓝城·春风燕语冲刺海报文案.docx',\n",
       " '/Users/wangqiang/Downloads/15-临安蓝城·春风燕语/2-文案创作/2019/20191218-蓝城·春风燕语全民营销海报文案.docx',\n",
       " '/Users/wangqiang/Downloads/15-临安蓝城·春风燕语/2-文案创作/2019/20191230-蓝城·春风燕语元旦海报文案.docx',\n",
       " '/Users/wangqiang/Downloads/15-临安蓝城·春风燕语/2-文案创作/2019/20190906-蓝城·春风燕语媒体软文_.docx',\n",
       " '/Users/wangqiang/Downloads/15-临安蓝城·春风燕语/2-文案创作/2019/20191105-蓝城·春风燕语代言人招募海报文案.docx',\n",
       " '/Users/wangqiang/Downloads/15-临安蓝城·春风燕语/2-文案创作/2019/20191202-蓝城·春风燕语激励海报文案.docx',\n",
       " '/Users/wangqiang/Downloads/15-临安蓝城·春风燕语/2-文案创作/2019/20191010-蓝城·春风燕语工程提示牌.docx',\n",
       " '/Users/wangqiang/Downloads/15-临安蓝城·春风燕语/2-文案创作/2019/20191106-蓝城·春风燕语区位配套利好软文-调整.docx',\n",
       " '/Users/wangqiang/Downloads/15-临安蓝城·春风燕语/2-文案创作/2019/20191202-蓝城·春风燕语激励海报文案-调整.docx',\n",
       " '/Users/wangqiang/Downloads/15-临安蓝城·春风燕语/2-文案创作/2019/20190906-蓝城·春风燕语叠墅加推海报文案.docx',\n",
       " '/Users/wangqiang/Downloads/15-临安蓝城·春风燕语/2-文案创作/2019/20191025-蓝城·春风燕语特价叠墅海报文案.docx',\n",
       " '/Users/wangqiang/Downloads/15-临安蓝城·春风燕语/2-文案创作/2019/20190917-蓝城·春风燕语车位海报文案.docx',\n",
       " '/Users/wangqiang/Downloads/15-临安蓝城·春风燕语/2-文案创作/2019/20191025-蓝城·春风燕语砸金蛋展架.docx',\n",
       " '/Users/wangqiang/Downloads/15-临安蓝城·春风燕语/2-文案创作/2019/20191028-蓝城·春风燕语家人访谈系列4.docx',\n",
       " '/Users/wangqiang/Downloads/15-临安蓝城·春风燕语/2-文案创作/2019/20191218-蓝城·春风燕语活动海报文案.docx',\n",
       " '/Users/wangqiang/Downloads/15-临安蓝城·春风燕语/2-文案创作/2019/20190910-蓝城·春风燕语叠墅加推倒计时海报文案.docx',\n",
       " '/Users/wangqiang/Downloads/15-临安蓝城·春风燕语/2-文案创作/2019/20191205-蓝城·春风燕语现场价值展板文案.docx',\n",
       " '/Users/wangqiang/Downloads/15-临安蓝城·春风燕语/2-文案创作/2019/20191031-蓝城·春风燕语1周年预告前宣-调整.docx',\n",
       " '/Users/wangqiang/Downloads/15-临安蓝城·春风燕语/2-文案创作/2019/20191107-蓝城·春风燕语业主采访提纲.docx',\n",
       " '/Users/wangqiang/Downloads/15-临安蓝城·春风燕语/2-文案创作/2019/20191115-临安蓝城·春风燕语业主访谈5-改.docx',\n",
       " '/Users/wangqiang/Downloads/15-临安蓝城·春风燕语/2-文案创作/2019/20191127-临安蓝城·春风燕语叠墅热销海报文案.docx',\n",
       " '/Users/wangqiang/Downloads/15-临安蓝城·春风燕语/2-文案创作/2019/20191203-蓝城·春风燕语价值提炼-调整.docx',\n",
       " '/Users/wangqiang/Downloads/15-临安蓝城·春风燕语/2-文案创作/2019/20191104-蓝城·春风燕语双11购房节倒计时文案.docx',\n",
       " '/Users/wangqiang/Downloads/15-临安蓝城·春风燕语/2-文案创作/2019/20191022-蓝城·春风燕语售楼处软装软文文案.docx',\n",
       " '/Users/wangqiang/Downloads/15-临安蓝城·春风燕语/2-文案创作/2019/20191126-临安蓝城·春风燕语1周年庆典预告海报文案 -改.docx',\n",
       " '/Users/wangqiang/Downloads/15-临安蓝城·春风燕语/2-文案创作/2019/20191206-蓝城·春风燕语现场价值展板文案_改.docx',\n",
       " '/Users/wangqiang/Downloads/15-临安蓝城·春风燕语/2-文案创作/2019/20191016-蓝城·春风燕语老带新海报文案（信笺版）.docx',\n",
       " '/Users/wangqiang/Downloads/15-临安蓝城·春风燕语/2-文案创作/2019/20191119-蓝城·春风燕语活动海报文案.docx',\n",
       " '/Users/wangqiang/Downloads/15-临安蓝城·春风燕语/2-文案创作/2019/20190906-蓝城·春风燕语围挡文案.docx',\n",
       " '/Users/wangqiang/Downloads/15-临安蓝城·春风燕语/2-文案创作/2019/20190903-蓝城·春风燕语社群包装.docx',\n",
       " '/Users/wangqiang/Downloads/15-临安蓝城·春风燕语/2-文案创作/2019/20191219-蓝城·春风燕语短信文案.docx',\n",
       " '/Users/wangqiang/Downloads/15-临安蓝城·春风燕语/2-文案创作/2019/20191113-蓝城·春风燕语销售业绩软文.docx',\n",
       " '/Users/wangqiang/Downloads/15-临安蓝城·春风燕语/2-文案创作/2019/20191105-蓝城·春风燕语氛围吊旗文案.docx',\n",
       " '/Users/wangqiang/Downloads/15-临安蓝城·春风燕语/2-文案创作/2019/20191212-蓝城·春风燕语海报文案.docx',\n",
       " '/Users/wangqiang/Downloads/15-临安蓝城·春风燕语/2-文案创作/2019/20190926-蓝城·春风燕语国庆活动九宫格文案.docx',\n",
       " '/Users/wangqiang/Downloads/15-临安蓝城·春风燕语/2-文案创作/2019/20191224-蓝城·春风燕语价值海报.docx',\n",
       " '/Users/wangqiang/Downloads/15-临安蓝城·春风燕语/2-文案创作/2019/20191217-蓝城·春风燕语新年祝福语.docx',\n",
       " '/Users/wangqiang/Downloads/15-临安蓝城·春风燕语/2-文案创作/2019/20191230-蓝城·春风燕语腊八海报文案.docx',\n",
       " '/Users/wangqiang/Downloads/15-临安蓝城·春风燕语/2-文案创作/2019/20190926-蓝城·春风燕语活动KT板文案.docx',\n",
       " '/Users/wangqiang/Downloads/15-临安蓝城·春风燕语/2-文案创作/2019/20190920-蓝城·春风燕语户外文案.docx',\n",
       " '/Users/wangqiang/Downloads/15-临安蓝城·春风燕语/2-文案创作/2019/20190919-蓝城·春风燕语上叠软文.docx',\n",
       " '/Users/wangqiang/Downloads/15-临安蓝城·春风燕语/2-文案创作/2019/20191126-临安蓝城·春风燕语1周年庆典预告海报文案.docx',\n",
       " '/Users/wangqiang/Downloads/15-临安蓝城·春风燕语/2-文案创作/2019/20191202-蓝城·春风燕语砸金蛋展板文案-调整.docx',\n",
       " '/Users/wangqiang/Downloads/15-临安蓝城·春风燕语/2-文案创作/2019/20191225-蓝城·春风燕语活动海报文案.docx',\n",
       " '/Users/wangqiang/Downloads/15-临安蓝城·春风燕语/2-文案创作/2019/20190829-蓝城·春风燕语星空下的露台系列文案_.docx',\n",
       " '/Users/wangqiang/Downloads/15-临安蓝城·春风燕语/2-文案创作/2019/20191106-蓝城·春风燕语价值长拉页框架思考.docx',\n",
       " '/Users/wangqiang/Downloads/15-临安蓝城·春风燕语/2-文案创作/2019/20190924-蓝城·春风燕语南房合院系列贴片.docx',\n",
       " '/Users/wangqiang/Downloads/15-临安蓝城·春风燕语/2-文案创作/2019/20191023-蓝城·春风燕语霜降节气海报文案-改.docx',\n",
       " '/Users/wangqiang/Downloads/15-临安蓝城·春风燕语/2-文案创作/2019/20190906-蓝城·春风燕语媒体软文.docx',\n",
       " '/Users/wangqiang/Downloads/15-临安蓝城·春风燕语/2-文案创作/2019/20190924-蓝城·春风燕语户外文案.docx',\n",
       " '/Users/wangqiang/Downloads/15-临安蓝城·春风燕语/2-文案创作/2019/20191203-蓝城·春风燕语现场桁架文案.docx',\n",
       " '/Users/wangqiang/Downloads/15-临安蓝城·春风燕语/2-文案创作/2019/20191129-蓝城·春风燕语业主采访提纲.docx',\n",
       " '/Users/wangqiang/Downloads/15-临安蓝城·春风燕语/2-文案创作/2019/20191220-蓝城·春风燕语车位海报文案.docx',\n",
       " '/Users/wangqiang/Downloads/15-临安蓝城·春风燕语/2-文案创作/2019/20191107-蓝城·春风燕语砸金蛋展架文案.docx',\n",
       " '/Users/wangqiang/Downloads/15-临安蓝城·春风燕语/2-文案创作/2019/20191210-蓝城·春风燕语活动海报文案-调整.docx',\n",
       " '/Users/wangqiang/Downloads/15-临安蓝城·春风燕语/2-文案创作/2019/20190927-蓝城·春风燕语下叠软文.docx',\n",
       " '/Users/wangqiang/Downloads/15-临安蓝城·春风燕语/2-文案创作/2019/20190919-蓝城·春风燕语叠墅系列海报文案.docx',\n",
       " '/Users/wangqiang/Downloads/15-临安蓝城·春风燕语/2-文案创作/2019/20190923-蓝城·春风燕语星空下的露台系列4文案.docx',\n",
       " '/Users/wangqiang/Downloads/15-临安蓝城·春风燕语/2-文案创作/2019/20190919-蓝城·春风燕语日签文案_调整.docx',\n",
       " '/Users/wangqiang/Downloads/15-临安蓝城·春风燕语/2-文案创作/2019/20190429-蓝城·春风燕语叠墅售罄海报文案（调整版）.docx',\n",
       " '/Users/wangqiang/Downloads/15-临安蓝城·春风燕语/2-文案创作/2019/20191114-蓝城·春风燕语业主采访提纲.docx',\n",
       " '/Users/wangqiang/Downloads/15-临安蓝城·春风燕语/2-文案创作/2019/20191113-蓝城·春风燕语销售业绩软文-调整.docx',\n",
       " '/Users/wangqiang/Downloads/15-临安蓝城·春风燕语/2-文案创作/2019/20190909-蓝城·春风燕语媒体软文（调整版）.docx',\n",
       " '/Users/wangqiang/Downloads/15-临安蓝城·春风燕语/2-文案创作/2019/20191219-蓝城·春风燕语年会主题.docx',\n",
       " '/Users/wangqiang/Downloads/15-临安蓝城·春风燕语/2-文案创作/2019/20191114-临安蓝城·春风燕语业主访谈5.docx',\n",
       " '/Users/wangqiang/Downloads/15-临安蓝城·春风燕语/2-文案创作/2020/20200106-蓝城·春风燕语春节期间桁架文案.docx',\n",
       " '/Users/wangqiang/Downloads/15-临安蓝城·春风燕语/2-文案创作/2020/20200401-蓝城·春风燕语有味的日常预告软文（调整版）.docx',\n",
       " '/Users/wangqiang/Downloads/15-临安蓝城·春风燕语/2-文案创作/2020/20200102-蓝城·春风燕语广告语构思.docx',\n",
       " '/Users/wangqiang/Downloads/15-临安蓝城·春风燕语/2-文案创作/2020/20200107-蓝城·春风燕语活动邀约海报文案.docx',\n",
       " '/Users/wangqiang/Downloads/15-临安蓝城·春风燕语/2-文案创作/2020/20200103-蓝城·春风燕语年会视频文案.docx',\n",
       " '/Users/wangqiang/Downloads/15-临安蓝城·春风燕语/2-文案创作/2020/20200114-蓝城·春风燕语新春活动海报文案.docx',\n",
       " '/Users/wangqiang/Downloads/15-临安蓝城·春风燕语/2-文案创作/2020/20200115-蓝城·春风燕语桁架文案.docx',\n",
       " '/Users/wangqiang/Downloads/15-临安蓝城·春风燕语/2-文案创作/2020/20200226-蓝城·春风燕语户型解读软文.docx',\n",
       " '/Users/wangqiang/Downloads/15-临安蓝城·春风燕语/2-文案创作/2020/20200310-蓝城·春风燕语下叠院子系列海报-调整.docx',\n",
       " '/Users/wangqiang/Downloads/15-临安蓝城·春风燕语/2-文案创作/2020/20200318-蓝城·春风燕语有味的日常预告软文.docx',\n",
       " '/Users/wangqiang/Downloads/15-临安蓝城·春风燕语/2-文案创作/2020/20200316-蓝城·春风燕语春分节气海报文案.docx',\n",
       " '/Users/wangqiang/Downloads/15-临安蓝城·春风燕语/2-文案创作/2020/20200324-蓝城·春风燕语热销海报文案.docx',\n",
       " '/Users/wangqiang/Downloads/15-临安蓝城·春风燕语/2-文案创作/2020/20200310-蓝城·春风燕语景观节点命名.docx',\n",
       " '/Users/wangqiang/Downloads/15-临安蓝城·春风燕语/2-文案创作/2020/20200110-蓝城·春风燕语生活服务年预告软文.docx',\n",
       " '/Users/wangqiang/Downloads/15-临安蓝城·春风燕语/2-文案创作/2020/20200109-蓝城·春风燕语委托方陈总致辞.docx',\n",
       " '/Users/wangqiang/Downloads/15-临安蓝城·春风燕语/2-文案创作/2020/20200119-蓝城·春风燕语景观节点命名.docx',\n",
       " '/Users/wangqiang/Downloads/15-临安蓝城·春风燕语/2-文案创作/2020/20200116-蓝城·春风燕语新春特惠活动预告软文.docx',\n",
       " '/Users/wangqiang/Downloads/15-临安蓝城·春风燕语/2-文案创作/2020/20200113-蓝城·春风燕语生活服务年软文.docx',\n",
       " '/Users/wangqiang/Downloads/15-临安蓝城·春风燕语/2-文案创作/2020/20200312-蓝城·春风燕语长拉页.docx',\n",
       " '/Users/wangqiang/Downloads/15-临安蓝城·春风燕语/2-文案创作/2020/20200324-蓝城·春风燕语热销海报文案-调整.docx',\n",
       " '/Users/wangqiang/Downloads/15-临安蓝城·春风燕语/2-文案创作/2020/20200326-蓝城·春风燕语KT板文案-调整.docx',\n",
       " '/Users/wangqiang/Downloads/15-临安蓝城·春风燕语/2-文案创作/2020/20200310-蓝城·春风燕语下叠院子系列海报.docx',\n",
       " '/Users/wangqiang/Downloads/15-临安蓝城·春风燕语/2-文案创作/2020/20200106-蓝城·春风燕语立春海报文案.docx',\n",
       " '/Users/wangqiang/Downloads/15-临安蓝城·春风燕语/2-文案创作/2020/20200107-蓝城·春风燕语新年礼家书卡片文案.docx',\n",
       " '/Users/wangqiang/Downloads/15-临安蓝城·春风燕语/2-文案创作/2020/20200103-蓝城·春风燕语定位语构思.docx',\n",
       " '/Users/wangqiang/Downloads/15-临安蓝城·春风燕语/2-文案创作/2020/20200106-蓝城·春风燕语渠道易拉宝文案.docx',\n",
       " '/Users/wangqiang/Downloads/15-临安蓝城·春风燕语/2-文案创作/2020/20200227-蓝城·春风燕语-致观唐花园项目业主的一封信（补充版）.docx',\n",
       " '/Users/wangqiang/Downloads/15-临安蓝城·春风燕语/2-文案创作/2020/20200107-蓝城·春风燕语年会陈总致辞文案.docx',\n",
       " '/Users/wangqiang/Downloads/15-临安蓝城·春风燕语/2-文案创作/2020/20200103-蓝城·春风燕语小寒海报文案.docx',\n",
       " '/Users/wangqiang/Downloads/15-临安蓝城·春风燕语/2-文案创作/2020/20200402-蓝城·春风燕语加推海报文案.docx',\n",
       " '/Users/wangqiang/Downloads/15-临安蓝城·春风燕语/2-文案创作/2020/20200302-蓝城·春风燕语生活顾问展板.docx',\n",
       " '/Users/wangqiang/Downloads/15-临安蓝城·春风燕语/2-文案创作/2020/20200110-蓝城·春风燕语小年海报文案.docx',\n",
       " '/Users/wangqiang/Downloads/15-临安蓝城·春风燕语/2-文案创作/2020/20200113-蓝城·春风燕语价值海报-改.docx',\n",
       " '/Users/wangqiang/Downloads/15-临安蓝城·春风燕语/2-文案创作/2020/20200320-蓝城·春风燕语热销海报文案.docx',\n",
       " '/Users/wangqiang/Downloads/15-临安蓝城·春风燕语/2-文案创作/2020/20200302-蓝城·春风燕语惊蛰海报文案.docx',\n",
       " '/Users/wangqiang/Downloads/15-临安蓝城·春风燕语/2-文案创作/2020/20200106-蓝城·春风燕语元宵节海报文案.docx',\n",
       " '/Users/wangqiang/Downloads/15-临安蓝城·春风燕语/2-文案创作/2020/20200227-蓝城·春风燕语业主信（补充版）.docx',\n",
       " '/Users/wangqiang/Downloads/15-临安蓝城·春风燕语/2-文案创作/2020/20200303-蓝城·春风燕语防疫长拉页.docx',\n",
       " '/Users/wangqiang/Downloads/15-临安蓝城·春风燕语/2-文案创作/2020/20200117-蓝城·春风燕语特价房易拉宝文案.docx',\n",
       " '/Users/wangqiang/Downloads/15-临安蓝城·春风燕语/2-文案创作/2020/20200309-蓝城·春风燕语景观节点命名.docx',\n",
       " '/Users/wangqiang/Downloads/15-临安蓝城·春风燕语/2-文案创作/2020/20200313-蓝城·春风燕语开盘主题.docx',\n",
       " '/Users/wangqiang/Downloads/15-临安蓝城·春风燕语/2-文案创作/2020/20200106-蓝城·春风燕语大寒海报文案.docx',\n",
       " '/Users/wangqiang/Downloads/15-临安蓝城·春风燕语/2-文案创作/2020/20200401-蓝城·春风燕语清明海报文案.docx',\n",
       " '/Users/wangqiang/Downloads/15-临安蓝城·春风燕语/2-文案创作/2020/20200309-蓝城·春风燕语植树节海报文案.docx',\n",
       " '/Users/wangqiang/Downloads/15-临安蓝城·春风燕语/2-文案创作/2020/20200311-蓝城·春风燕语下叠第三方踩盘推文.docx',\n",
       " '/Users/wangqiang/Downloads/15-临安蓝城·春风燕语/2-文案创作/2020/20200107-蓝城·春风燕语年会孙总致辞文案.docx',\n",
       " '/Users/wangqiang/Downloads/15-临安蓝城·春风燕语/2-文案创作/2020/20200106-蓝城·春风燕语渠道易拉宝文案-调整.docx',\n",
       " '/Users/wangqiang/Downloads/15-临安蓝城·春风燕语/2-文案创作/2020/20200326-蓝城·春风燕语KT板文案.docx',\n",
       " '/Users/wangqiang/Downloads/15-临安蓝城·春风燕语/2-文案创作/2020/20200109-蓝城·春风燕语年会串词.docx',\n",
       " '/Users/wangqiang/Downloads/15-临安蓝城·春风燕语/2-文案创作/2020/20200102-蓝城·春风燕语桁架文案-调整.docx',\n",
       " '/Users/wangqiang/Downloads/15-临安蓝城·春风燕语/2-文案创作/2020/20200312-蓝城·春风燕语春日特价房海报.docx',\n",
       " '/Users/wangqiang/Downloads/15-临安蓝城·春风燕语/2-文案创作/2020/20200313-蓝城·春风燕语直播预告海报.docx',\n",
       " '/Users/wangqiang/Downloads/15-临安蓝城·春风燕语/2-文案创作/2020/20200108-蓝城·春风燕语年会H5文案.docx',\n",
       " '/Users/wangqiang/Downloads/15-临安蓝城·春风燕语/2-文案创作/2020/20200305-蓝城·春风燕语妇女节海报文案.docx',\n",
       " '/Users/wangqiang/Downloads/15-临安蓝城·春风燕语/2-文案创作/2020/20200114-蓝城·春风燕语新春系列海报文案.docx',\n",
       " '/Users/wangqiang/Downloads/15-临安蓝城·春风燕语/2-文案创作/2020/20200102-蓝城·春风燕语桁架文案.docx',\n",
       " '/Users/wangqiang/Downloads/15-临安蓝城·春风燕语/2-文案创作/2020/20200402-蓝城·春风燕语喜报文案.docx',\n",
       " '/Users/wangqiang/Downloads/15-临安蓝城·春风燕语/2-文案创作/2020/20200110-蓝城·春风燕语价值海报.docx',\n",
       " '/Users/wangqiang/Downloads/15-临安蓝城·春风燕语/2-文案创作/2020/20200109-蓝城·春风燕语年会孙总致辞文案.docx',\n",
       " '/Users/wangqiang/Downloads/15-临安蓝城·春风燕语/2-文案创作/2020/20200106-蓝城·春风燕语小年海报文案.docx']"
      ]
     },
     "execution_count": 95,
     "metadata": {},
     "output_type": "execute_result"
    }
   ],
   "source": [
    "filenames"
   ]
  },
  {
   "cell_type": "markdown",
   "id": "5cbb7c24-be12-4f81-b60a-88c20bc461a3",
   "metadata": {},
   "source": [
    "### 使用unstructure构建索引"
   ]
  },
  {
   "cell_type": "code",
   "execution_count": null,
   "id": "a024d386-0e24-4779-bcb9-8967a1daaa34",
   "metadata": {},
   "outputs": [],
   "source": []
  }
 ],
 "metadata": {
  "kernelspec": {
   "display_name": "Python 3 (ipykernel)",
   "language": "python",
   "name": "python3"
  },
  "language_info": {
   "codemirror_mode": {
    "name": "ipython",
    "version": 3
   },
   "file_extension": ".py",
   "mimetype": "text/x-python",
   "name": "python",
   "nbconvert_exporter": "python",
   "pygments_lexer": "ipython3",
   "version": "3.10.14"
  }
 },
 "nbformat": 4,
 "nbformat_minor": 5
}
