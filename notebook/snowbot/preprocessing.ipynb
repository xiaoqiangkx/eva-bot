{
 "cells": [
  {
   "cell_type": "code",
   "execution_count": 40,
   "id": "637fbd17-0427-4e39-a28c-591d70fccc67",
   "metadata": {},
   "outputs": [],
   "source": [
    "from unstructured.partition.auto import partition\n",
    "from unstructured.partition.image import partition_image"
   ]
  },
  {
   "cell_type": "code",
   "execution_count": 55,
   "id": "495969df-faa0-49ad-959a-5a2a44192732",
   "metadata": {},
   "outputs": [],
   "source": [
    "filename = \"/Users/wangqiang/Downloads/常雪历年工作备份/4-工作相关/6-蓝道广告/工作/33-北京蓝城桃花源/2-文案创作/210902 北京桃花源道旗文字-改.docx\""
   ]
  },
  {
   "cell_type": "code",
   "execution_count": 56,
   "id": "3c434ad7-08f7-438e-ae9a-441dcf148ae8",
   "metadata": {},
   "outputs": [],
   "source": [
    "elements = partition(filename, languages=[\"chi_sim\"])"
   ]
  },
  {
   "cell_type": "markdown",
   "id": "298b9825-78b9-4a55-893f-6fba65b102ca",
   "metadata": {},
   "source": [
    "### 地产数据统计和分类"
   ]
  },
  {
   "cell_type": "markdown",
   "id": "12321873-27bb-4945-b0c1-9ce497704b02",
   "metadata": {},
   "source": [
    "#### 1. 数据统计和清洗\n",
    "- 后缀分布情况"
   ]
  },
  {
   "cell_type": "code",
   "execution_count": 64,
   "id": "74576e1e-853a-4945-a481-800c8a2d8077",
   "metadata": {},
   "outputs": [],
   "source": [
    "import sys\n",
    "import os\n",
    "\n",
    "sys.path.insert(0, os.path.abspath(\"../../\"))"
   ]
  },
  {
   "cell_type": "code",
   "execution_count": 65,
   "id": "106ae170-1d39-4ea9-ba09-fb7522688db3",
   "metadata": {},
   "outputs": [],
   "source": [
    "from utils import file_utils"
   ]
  }
 ],
 "metadata": {
  "kernelspec": {
   "display_name": "Python 3 (ipykernel)",
   "language": "python",
   "name": "python3"
  },
  "language_info": {
   "codemirror_mode": {
    "name": "ipython",
    "version": 3
   },
   "file_extension": ".py",
   "mimetype": "text/x-python",
   "name": "python",
   "nbconvert_exporter": "python",
   "pygments_lexer": "ipython3",
   "version": "3.10.14"
  }
 },
 "nbformat": 4,
 "nbformat_minor": 5
}
