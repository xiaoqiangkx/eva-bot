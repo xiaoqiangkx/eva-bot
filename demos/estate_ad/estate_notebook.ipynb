{
 "cells": [
  {
   "cell_type": "code",
   "execution_count": 1,
   "id": "58964011-7905-4565-83a5-068aaeb428cc",
   "metadata": {},
   "outputs": [],
   "source": [
    "from demos.estate_ad.estate_rag import EstateRag"
   ]
  },
  {
   "cell_type": "code",
   "execution_count": 3,
   "id": "23244bd7-1e60-4bf8-8069-619e8e647b1f",
   "metadata": {},
   "outputs": [],
   "source": [
    "FILE_DIR = \"/Users/wangqiang/Downloads/15-临安蓝城·春风燕语/2-文案创作/2020\"\n",
    "rag = EstateRag(FILE_DIR)"
   ]
  },
  {
   "cell_type": "code",
   "execution_count": 10,
   "id": "ff49de69-9f2f-4360-a8aa-deab423e9e08",
   "metadata": {},
   "outputs": [],
   "source": [
    "response = rag.invoke(\"请问春风燕语是什么？\")"
   ]
  },
  {
   "cell_type": "code",
   "execution_count": 11,
   "id": "544cf859-2d6d-415c-86ff-4e7bbee506b0",
   "metadata": {},
   "outputs": [
    {
     "data": {
      "text/plain": [
       "'春风燕语是一个地产项目或者房地产开发商的名字，根据提供的文案内容来看，春风燕语可能是一个以提供生活服务为主要目标的房地产项目，致力于提供高品质的生活空间和社区氛围。其文案中提到了关于生活设计委员会、社群活动等内容，暗示了这个项目可能注重社区交流和居住体验。'"
      ]
     },
     "execution_count": 11,
     "metadata": {},
     "output_type": "execute_result"
    }
   ],
   "source": [
    "response[\"answer\"]"
   ]
  },
  {
   "cell_type": "code",
   "execution_count": 12,
   "id": "f71aa8ce-7e3a-438b-9bb2-75600fbe193d",
   "metadata": {},
   "outputs": [
    {
     "data": {
      "text/plain": [
       "'在设计关于地球的长拉页文案时，可以融入以下元素：\\n\\n标题：宇宙之珍——地球\\n正文：\\n地球，我们共同的家园，承载着无数生命的奇迹。在这片蔚蓝星球上，湖山如此生活，湖山的宴席永不落幕。觅寻湖山生活，湖山自然更美好，湖山生活赞美诗，俯拾湖山自在时光。\\n\\n拾春湖山，美好相逢。欢迎加入一场春之群聊，走进三月的门楣。春光悠然，湖山初醒，一草一木，一花一石，仿若画家笔下的山水画，每一层色彩，皆是人间绝色。\\n\\n春风燕语是日轻启，细雨将根芽浇透，滋养出新的诗意。亭台楼榭，凌波而起，柳拂漏窗，苍翠入眼，流水音清，游烟绕林，没有人工刻意的雕琢，一切都是自然的模样。\\n\\n大自然的奇妙笔触，不吝笔墨，海棠、玉兰、早樱重重叠叠，聆听春的号令，恰是江南好风景。路过春的须臾，请往里走，湖山已备好微风，飞鸟恬静着等待，温润的心，从来不因时间的流逝而蒙尘。\\n\\n新的一年，新的邂逅，蓬勃春的渴望，等待你的到来。让我们一起珍爱地球，保护湖山生活，让自然之美永恒绽放。'"
      ]
     },
     "execution_count": 12,
     "metadata": {},
     "output_type": "execute_result"
    }
   ],
   "source": [
    "rag.invoke(\"请问春风燕语设计一个长拉页文案，主题是关于地球\")[\"answer\"]"
   ]
  },
  {
   "cell_type": "code",
   "execution_count": null,
   "id": "786f45e2-391d-41e0-8dfd-49eb2998eb2c",
   "metadata": {},
   "outputs": [],
   "source": []
  }
 ],
 "metadata": {
  "kernelspec": {
   "display_name": "Python 3 (ipykernel)",
   "language": "python",
   "name": "python3"
  },
  "language_info": {
   "codemirror_mode": {
    "name": "ipython",
    "version": 3
   },
   "file_extension": ".py",
   "mimetype": "text/x-python",
   "name": "python",
   "nbconvert_exporter": "python",
   "pygments_lexer": "ipython3",
   "version": "3.10.14"
  }
 },
 "nbformat": 4,
 "nbformat_minor": 5
}
